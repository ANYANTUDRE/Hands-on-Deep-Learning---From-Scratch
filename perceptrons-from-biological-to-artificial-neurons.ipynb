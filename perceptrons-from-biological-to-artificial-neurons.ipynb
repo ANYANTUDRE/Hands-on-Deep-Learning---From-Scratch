{
 "cells": [
  {
   "cell_type": "markdown",
   "id": "26bfd043",
   "metadata": {
    "papermill": {
     "duration": 0.00797,
     "end_time": "2024-02-21T21:31:28.644661",
     "exception": false,
     "start_time": "2024-02-21T21:31:28.636691",
     "status": "completed"
    },
    "tags": []
   },
   "source": [
    "<a id=\"toc\"></a>\n",
    "<p><center style=\"color:#006d77; font-family: 'Dancing Script', cursive; font-size:50px;\">Theory behind Perceptrons: From Biological to Artificial Neurons </center></p>\n",
    "\n",
    "<div style=\"background-color:#e6eded; padding: 10px;\">\n",
    "<div class=\"alert alert-block alert-secondary\" style=\"font-size:20px; font-family:verdana;\">  \n",
    "    This notebook is predestined to Neural Networks and Deep Learning enthusiasts. We will explore the history and evolution of Artificial Neural Networks, from their creation in the 1940s by McCulloch and Pitts to the Perceptron learning algorithm proposed by pioneer Frank Rosenblatt. <br><br> \n",
    "    As part of my exploration of this field, I will regularly share my discoveries and learnings in the form of articles and notebooks.<br> \n",
    "    Stay tuned🔔 and follow me on this exciting adventure.<br><br>  \n",
    "    - <b>Check the full article: </b> <a href=\"https://anyantudre.medium.com/from-biological-to-artificial-neurons-theory-behind-perceptrons-d0ccc5bcf1eb\">Theory behind Perceptrons: From Biological to Artificial Neurons.</a> <br>\n",
    "    - <b>GitHub repo:</b> <a href=\"https://github.com/ANYANTUDRE/Hands-on-Deep-Learning-From-Scratch\">Hands on Deep Learning - From Scratch </a>\n",
    "    <!---  find this notebook helpful, kindly consider giving it an upvote ⬆️ to help others discover it too! -->\n",
    " </div>"
   ]
  },
  {
   "cell_type": "markdown",
   "id": "8261413f",
   "metadata": {
    "papermill": {
     "duration": 0.007184,
     "end_time": "2024-02-21T21:31:28.659702",
     "exception": false,
     "start_time": "2024-02-21T21:31:28.652518",
     "status": "completed"
    },
    "tags": []
   },
   "source": [
    "\n",
    "<center><img src='https://www.researchgate.net/profile/Zhenzhu-Meng/publication/339446790/figure/fig2/AS:862019817320450@1582532948784/A-biological-neuron-in-comparison-to-an-artificial-neural-network-a-human-neuron-b.png' \n",
    "height=400px width=600px />\n",
    "</center>\n",
    "Image Credits: https://www.researchgate.net/figure/A-biological-neuron-in-comparison-to-an-artificial-neural-network-a-human-neuron-b_fig2_339446790\n"
   ]
  },
  {
   "cell_type": "markdown",
   "id": "9878857a",
   "metadata": {
    "papermill": {
     "duration": 0.007231,
     "end_time": "2024-02-21T21:31:28.674606",
     "exception": false,
     "start_time": "2024-02-21T21:31:28.667375",
     "status": "completed"
    },
    "tags": []
   },
   "source": [
    "<div style=\"border-radius:10px; padding: 12px; background-color: #ffffff; font-size:150%; text-align:left\">\n",
    "\n",
    "    \n",
    "<b>Artificial Neural Networks, or ANNs for short,</b> are at the very core of the Deep Learning field. ANNs are computational models consisting of interconnected nodes, organized in layers and inspired by the structure and function of the human brain.<br>\n",
    "    \n",
    "<center><img src='https://cdn-images-1.medium.com/max/800/1*ub-ifcgdi9xgryqvo0_GRA.png' \n",
    "height=400px width=600px /></center>\n",
    "    \n",
    "They are versatile, powerful and extremely scalable structures that can <b>perform tasks that only living beings are initially capable of</b>, such as pattern recognition, text comprehension and generation, decision-making, etc… Their recent evolution may even lead us to claim that they have already surpassed man in certain tasks but that's a moot point we won't go into here.  \n",
    "    \n",
    "<div style=\"background-color:#e6eded; padding: 20px;\">\n",
    "<div class=\"alert alert-block alert-secondary\" style=\"font-size:25px; font-family:verdana;\"> \"Neural networks function in the same way as the human brain.\"  --  A popular thought.</div> </div> \n",
    "This is a popular preconceived but completely wrong idea that I often hear from people.\n",
    "    <b>The human brain is far more complex and sophisticated than any existing ANN architecture.</b>\n",
    "    And as the famous VP and Chief AI Scientist at Meta Yann LeCun once said, <b>although planes were inspired by birds, they don't have to flap their wings.</b> But of course that doesn't take away the fact that ANNs are heavily inspired by the way the human brain works.\n",
    "    \n",
    "<center><img src='https://cdn-images-1.medium.com/max/800/1*31EQIDzkZD6kFmgejTxfZA.png' \n",
    "height=400px width=600px /></center>\n",
    "Let's discover all about Perceptrons and, of course, gain an in-depth understanding of their inner workings.\n",
    "</div>"
   ]
  },
  {
   "cell_type": "markdown",
   "id": "14ae8664",
   "metadata": {
    "papermill": {
     "duration": 0.007597,
     "end_time": "2024-02-21T21:31:28.689748",
     "exception": false,
     "start_time": "2024-02-21T21:31:28.682151",
     "status": "completed"
    },
    "tags": []
   },
   "source": [
    "<b><span style='color:#E1B12D; font-size: 30px'>Tables of contents</span></b>  \n",
    "<div style=\"border-radius:10px; padding: 12px; background-color: #ffffff; font-size:150%; text-align:left\">\n",
    "\n",
    "<a id=\"toc\"></a>\n",
    "- <a href=\"#1\"> 1. Brief history of ANNs </a>\n",
    "- <a href=\"#2\"> 2. Functionning of Biological Neurons </a>\n",
    "- <a href=\"#3\"> 3. Architecture of a Single-Layer Perceptron </a>\n",
    "- <a href=\"#4\"> 4. The Perceptron training algorithm </a>\n",
    "- <a href=\"#5\"> 5. Implementing Perceptron from scratch </a>\n",
    "- <a href=\"#6\"> 6. Implementing Perceptron with scikit-learn </a>\n",
    "- <a href=\"#7\"> 7. Limitations of Single-Layer Perceptrons </a>\n",
    "\n",
    "</div>"
   ]
  },
  {
   "cell_type": "markdown",
   "id": "7aa0bb25",
   "metadata": {
    "papermill": {
     "duration": 0.007715,
     "end_time": "2024-02-21T21:31:28.705796",
     "exception": false,
     "start_time": "2024-02-21T21:31:28.698081",
     "status": "completed"
    },
    "tags": []
   },
   "source": [
    "<a id=\"1\"></a>\n",
    "## <b><span style='color:#E1B12D; font-size: 40px'>1. Brief history of ANNs</span></b> \n",
    "\n",
    "<div style=\"border-radius:10px; padding: 12px; background-color: #ffffff; font-size:150%; text-align:left\">\n",
    "    \n",
    "Check the full article for more details about this part.\n",
    "    \n",
    "<center><img src='https://cdn-images-1.medium.com/max/800/0*eoUYQD-k28K5Cu3r.png' \n",
    "height=200px width=700px /></center>\n",
    "</div>\n",
    "\n",
    "Image Credits: [Allerin](https://www.allerin.com/blog/the-evolution-of-neural-networks)"
   ]
  },
  {
   "cell_type": "markdown",
   "id": "e5f51af1",
   "metadata": {
    "papermill": {
     "duration": 0.007238,
     "end_time": "2024-02-21T21:31:28.721221",
     "exception": false,
     "start_time": "2024-02-21T21:31:28.713983",
     "status": "completed"
    },
    "tags": []
   },
   "source": [
    "<a id=\"toc\"></a>\n",
    "\n",
    "<a href=\"#toc\" style=\"background-color: #E1B12D; color: #ffffff; padding: 7px 15px; text-decoration: none; border-radius: 50px;\">Back to top</a><a id=\"toc\"></a>\n",
    "\n",
    "<a id=\"2\"></a>\n",
    "## <b><span style='color:#E1B12D; font-size: 40px'>2. Functionning of Biological Neurons</span></b> <br>\n",
    "\n",
    "<div style=\"border-radius:10px; padding: 12px; background-color: #ffffff; font-size:150%; text-align:left\">\n",
    "\n",
    "It's important to understand how biologicals neurons works before diving deep into ANNs functionning and architectures. A little refresher course in Life Sciences that most people learned in high school wouldn't hurt :) <br>\n",
    " \n",
    "<b><span style='color:#0077b6; font-size: 25px'>Definition of a neuron </span></b> <br>\n",
    "    \n",
    "According the biology dictionary, <b>a neuron is a single nervous system cell that receives, processes, and transmits electrochemical messages from and to other cells.</b> <br>\n",
    "In other words, <b>it's the basic building block of the nervous system in living organisms, including humans that are responsible for transmitting electrical and chemical signals within the brain, spinal cord, and throughout the body.</b>   <br>\n",
    "    \n",
    "<div style=\"background-color:#e6eded; padding: 10px;\">\n",
    "<div class=\"alert alert-block alert-secondary\" style=\"font-size:20px; font-family:verdana;\"> \"A cell that carries information between the brain and other parts of the body.\" -- Cambridge dictionary </div> </div> <br><br>\n",
    "\n",
    "<b><span style='color:#0077b6; font-size: 25px'>Anatomy of a neuron: </span></b> <br>\n",
    "    \n",
    "A neuron has three basic parts: a cell body, an axon and a dendrite.\n",
    "    \n",
    "<center><img src='https://upload.wikimedia.org/wikipedia/commons/thumb/4/44/Neuron3.png/400px-Neuron3.png' \n",
    "height=300px width=500px /></center>\n",
    "    \n",
    "- <b>The cell body (also known as the soma)</b> contains a nucleus that controls the cell's activities as well as other genetic materials.\n",
    "- <b>The dendrites</b> are branch-like extensions that protrude from the cell body. They receive signals from other neurons or sensory receptors and transmit these signals toward the cell body.\n",
    "- <b>The axon</b> looks like a long tail that extends from the cell body. It conducts electrical impulses, known as action potentials, away from the cell body and toward other neurons.  At the end of the axon, there are small branches called axon terminals or synaptic terminals. These terminals form connections, called synapses, with dendrites or cell bodies of other neurons. <br> <br>\n",
    "    \n",
    "    \n",
    "<b><span style='color:#0077b6; font-size: 25px'>Inner working of a neuron </span></b> <br>\n",
    "    \n",
    "All neurons have three basic functions:\n",
    "- <b>Receive signals</b> (or information),\n",
    "- <b>Integrate incoming signals</b> (to determine whether or not the information should be passed along) and,\n",
    "- <b>Communicate signals to target cells.</b>\n",
    "\n",
    "<div style=\"background-color:#e6eded; padding: 10px;\">\n",
    "<div class=\"alert alert-block alert-secondary\" style=\"font-size:20px; font-family:verdana;\"> \"When a neuron receives a sufficient number of signals from other neurons within a few milliseconds, it fires its own signals.\" </div> </div> <br><br>\n",
    "    \n",
    "<b><span style='color:#0077b6; font-size: 25px'>Biological Neural Networks  </span></b> <br>\n",
    " \n",
    "Individual biological neurons may seem simple on their own, but when you consider that there are millions of millions of these neurons, things get really interesting. Each neuron is like a tiny piece of a big puzzle, and they communicate with thousands of other neurons. Even though each neuron operates in a straightforward manner, when you link them up in a massive network, they can perform incredibly complex tasks. <br>\n",
    "Scientists are still actively studying the structure of Biological Neural Networks (BNN). While there's much we're still figuring out, some parts of the brain have been mapped, giving us a glimpse into how neurons are arranged. <br>\n",
    "    <b>It appears that these neurons often form layers, like stacking building blocks. Imagine it as if these layers are the different floors in a skyscraper where each floor contributes to the overall functioning of the brain similar to the layers illustrated in the following image:</b>\n",
    "    \n",
    "<center><img src='https://cdn-images-1.medium.com/max/800/0*vgcPpHe6XL4Kopp7.png' \n",
    "height=500px width=800px /></center>\n",
    "Now that we have a little bit of knowledge about the architecture and functioning of neurons and the human brain, let's discover how these are \"implemented\" artificially.\n",
    "</div>"
   ]
  },
  {
   "cell_type": "markdown",
   "id": "c4d2f9f6",
   "metadata": {
    "papermill": {
     "duration": 0.008032,
     "end_time": "2024-02-21T21:31:28.736984",
     "exception": false,
     "start_time": "2024-02-21T21:31:28.728952",
     "status": "completed"
    },
    "tags": []
   },
   "source": [
    "<a id=\"toc\"></a>\n",
    "\n",
    "<a href=\"#toc\" style=\"background-color: #E1B12D; color: #ffffff; padding: 7px 10px; text-decoration: none; border-radius: 50px;\">Back to top</a><a id=\"toc\"></a>\n",
    "\n",
    "<a id=\"\"></a>\n",
    "<b><span style='color:#E1B12D; font-size: 40px'>3. Architecture of a Single-Layer Perceptron</span></b> <br>\n",
    "\n",
    "\n",
    "<div style=\"border-radius:10px; padding: 12px; background-color: #ffffff; font-size:150%; text-align:left\">\n",
    "\n",
    "    \n",
    "It's important to understand how biologicals neurons works before diving deep into ANNs functionning and architectures. A little refresher course in Life Sciences that most people learned in high school wouldn't hurt :) <br>\n",
    "    \n",
    "<b><span style='color:#0077b6; font-size: 25px'>Simplified McCulloch-Pitts Model </span></b><br>\n",
    "    \n",
    "In the McCulloch-Pitts model, <b>artificial  neurons are represented as binary threshold units.</b> Each neuron takes binary inputs (0 or 1 also on/off) from other neurons or external sources and produces a binary output (0 or 1) based on a predetermined threshold. <br>\n",
    "Simply put, the neuron's output is activated (set to 1) if more than a certain number of its inputs are active; otherwise, the output remains deactivated (set to 0).<br><br>\n",
    "<div> \n",
    "    <center><img src='https://cdn-images-1.medium.com/max/800/0*GTA3Rlg3ZU9VDCBZ.png' \n",
    "height=200px width=300px /></center>  \n",
    "    <center><img src='https://cdn-images-1.medium.com/max/800/0*A7xBhSjxn93vvzUP.png' \n",
    "height=200px width=500px /></center> \n",
    "</div>\n",
    "The process is splitted into two steps. In the first part, g takes an input (kind of like a message receiver - dendrite), and it adds everything up. Then, based on this added-up value, the second part, f makes a decision using a special number called theta. <b>This is called the Thresholding Logic.</b> <br>\n",
    "Note here the similarity of this model to the neuron diagram described above. Such simple model was primarily used to demonstrate the computational capabilities of simple network of artificial neurons since it's possible to compute almost any logical proposition you want.\n",
    "    \n",
    "<b> Examples : ANNs performing simple logical computations.</b>\n",
    "- <b>AND function:</b> neuron would only fire when all the inputs are activated(ON or 1) i.e., g(x) ≥ 3 here.\n",
    "<center><img src='https://cdn-images-1.medium.com/max/800/0*5z7I91-dcqnLWP-q.png' \n",
    "height=200px width=300px /></center>\n",
    "    \n",
    "- <b>OR function:</b> neuron would fire if ANY of the inputs is activated (1) i.e., g(x) ≥ 1 here.\n",
    "<center><img src='https://cdn-images-1.medium.com/max/800/0*AHl3iOmvwpzVgAUD.png' \n",
    "height=200px width=300px /></center> <br><br>\n",
    "    \n",
    "    \n",
    "<b><span style='color:#0077b6; font-size: 25px'>The Threshold Logic Units (TLUs) </span></b> <br>\n",
    "\n",
    "<b>Threshold Logic Units (TLUs) also known as Linear Threshold Units (LTU)</b> were initially proposed by <i>Frank Rosenblatt in the late 1950s</i> as <b>the basic units of Perceptrons.</b> <br>\n",
    "These computational units are also based on a threshold activation function i.e., they apply a step function to the weighted sum of their inputs and then produce outputs that are now numbers (instead of binary on/off values used in McCulloch-Pitts model).\n",
    "    \n",
    "<center><img src='https://cdn-images-1.medium.com/max/800/0*N4mbgu1Z6mZfeiam.jpg' \n",
    "height=500px width=800px /></center>\n",
    "    \n",
    "There are two common step functions used in TLUs: <b> Heaviside and Sign.</b>\n",
    "    \n",
    "<center><img src='https://cdn-images-1.medium.com/max/800/1*sWDCmtbkWFwNflqYBBXEdg.png' \n",
    "height=500px width=800px /></center>\n",
    "    \n",
    "<b> TLUs are capable of defining linear decision boundaries in input space. In two-dimensional space, for example, a single TLU can separate points into two classes (binary classification) using a straight line.</b> <br>\n",
    "It simply computes a linear combination of the inputs: if the result exceeds a threshold, it outputs the positive class or else outputs the negative class (just like a Logistic Regression classifier). Training a TLU in this case means finding the right values for weights. <br><br>\n",
    "    \n",
    "   \n",
    "<b><span style='color:#0077b6; font-size: 25px'>The Perceptron </span></b> <br>\n",
    "\n",
    "<b>Perceptrons are the simplest architecture of ANNs.</b> <br>\n",
    "<b>A Perceptron is simply composed of a single layer of TLUs, with each TLU connected to all the inputs forming a dense layer. </b>\n",
    "    \n",
    "<div style=\"background-color:#e6eded; padding: 10px;\">\n",
    "<div class=\"alert alert-block alert-secondary\" style=\"font-size:20px; font-family:verdana;\"> \"When all the neurons in a layer are connected to every neuron in the previous layer, it is called a fully connected layer or a dense layer.\" </div> </div> \n",
    "    \n",
    "To show that every input goes to each TLU, we often draw special <b>\"input neurons.\"</b> These neurons just pass on whatever they receive as input. All these input neurons together form what we call the <b>input layer.</b> <br>\n",
    "Additionally, we usually include an extra feature called a bias. It's like a constant factor that's always there. We represent this bias using a special kind of neuron called a <b>\"bias neuron,\"</b> which always outputs 1. <br>\n",
    "Now, let's imagine a Perceptron with two inputs and three outputs.\n",
    "    \n",
    "<center><img src='https://cdn-images-1.medium.com/max/800/1*WQOQchaJYaLfFZP9lyVJ3w.png' \n",
    "height=500px width=800px /></center>\n",
    "<b>With this setup, the Perceptron can classify things into three different categories all at once, which means it's a multi-output classifier.</b>\n",
    "\n",
    "<center><img src='https://cdn-images-1.medium.com/max/800/1*OMy7dyAqMkOdh26Le2B0wQ.png' \n",
    "height=500px width=800px /></center>\n",
    "- <b>X represents the matrix of input features.</b> Each row represents one instance, and each column represents one feature. <br> \n",
    "- <b>W contains all the connection weights</b> between input neurons and artificial neurons in the layer. Each row corresponds to one input neuron, and each column corresponds to one artificial neuron.   <br> \n",
    "- <b>The bias vector b contains the connection weights</b> between the bias neuron and the artificial neurons. Each element of this vector represents the bias term for one artificial neuron.   <br> \n",
    "- <b>The function \"phi\" is the activation function.</b>   <br> \n"
   ]
  },
  {
   "cell_type": "markdown",
   "id": "411acf45",
   "metadata": {
    "papermill": {
     "duration": 0.007337,
     "end_time": "2024-02-21T21:31:28.752067",
     "exception": false,
     "start_time": "2024-02-21T21:31:28.744730",
     "status": "completed"
    },
    "tags": []
   },
   "source": [
    "<a id=\"toc\"></a>\n",
    "\n",
    "<a href=\"#toc\" style=\"background-color: #E1B12D; color: #ffffff; padding: 7px 10px; text-decoration: none; border-radius: 50px;\">Back to top</a><a id=\"toc\"></a>\n",
    "\n",
    "<a id=\"\"></a>\n",
    "<b><span style='color:#E1B12D; font-size: 40px'>4. The Perceptron training algorithm</span></b> <br>\n",
    "\n",
    "\n",
    "<div style=\"border-radius:10px; padding: 12px; background-color: #ffffff; font-size:150%; text-align:left\">\n",
    "\n",
    "    \n",
    "<b><span style='color:#0077b6; font-size: 25px'>Hebb's rule </span></b> <br>\n",
    " \n",
    "<b>Hebb's rule or Hebbian learning</b>, proposed by Canadian psychologist Donald Hebb in his book <i>\"The Organization of Behavior\" published in 1949</i>, is a foundational principle in the field of neuroscience and Neural Network theory. <br>\n",
    "Hebb's postulate states:<br>\n",
    "\n",
    "<div style=\"background-color:#e6eded; padding: 10px;\">\n",
    "<div class=\"alert alert-block alert-secondary\" style=\"font-size:20px; font-family:verdana;\"> \"When an axon of cell A is near enough to excite a cell B and repeatedly or persistently takes part in firing it, some growth process or metabolic change takes place in one or both cells such that A's efficiency, as one of the cells firing B, is increased.\" </div> </div> \n",
    "<center><img src='https://cdn-images-1.medium.com/max/800/0*hERzWPrdyHHit0zN' \n",
    "height=800px width=1000px /></center>\n",
    "    \n",
    "Simply put, Hebb's rule can be summarized as:\n",
    "    \n",
    "<div style=\"background-color:#e6eded; padding: 10px;\">\n",
    "<div class=\"alert alert-block alert-secondary\" style=\"font-size:20px; font-family:verdana;\"> \"Neurons that fire together, wire together.\" -- Hebb's Law. </div> </div> \n",
    "    \n",
    "<b>This rule suggests that the strength of the connection between two neurons increases if they are activated simultaneously. If neuron A repeatedly triggers neuron B, the connection between them strengthens over time.</b> \n",
    "This mechanism is fundamental to the process of learning and memory formation in the brain. <br><br>\n",
    "    \n",
    "   \n",
    "<b><span style='color:#0077b6; font-size: 25px'>Perceptron learning algorithm </span></b> <br>\n",
    "\n",
    "The Perceptron training algorithm proposed by Frank Rosenblatt was largely inspired by Hebb's rule. Perceptrons are trained using a variant of this rule that considers the network's errors and strengthens connections that help minimize these errors. Here's how it works: <br>\n",
    "- <b>We train the Perceptron one instance at a time.</b> <br>\n",
    "- <b>For each instance, the Perceptron makes predictions.</b> <br>\n",
    "- <b>If any of the predictions are wrong, the connections from the inputs that could have led to the correct prediction are reinforced.</b> This helps the Perceptron learn from its mistakes and improve its accuracy over time. <br><br>\n",
    "    \n",
    "<center><img src='https://cdn-images-1.medium.com/max/800/1*47-bYV-_AtyG9fXJU9tqrA.png' \n",
    "height=500px width=800px /></center>\n",
    "    \n",
    "    \n",
    "<div style=\"background-color:#e6eded; padding: 10px;\">\n",
    "<div class=\"alert alert-block alert-secondary\" style=\"font-size:20px; font-family:verdana;\"> \"If the training instances are linearly separable, Rosenblatt demonstrated that this algorithm would converge and find a solution.\" -- The Perceptron convergence theorem. </div> </div> \n"
   ]
  },
  {
   "cell_type": "markdown",
   "id": "60e827fd",
   "metadata": {
    "papermill": {
     "duration": 0.007412,
     "end_time": "2024-02-21T21:31:28.767168",
     "exception": false,
     "start_time": "2024-02-21T21:31:28.759756",
     "status": "completed"
    },
    "tags": []
   },
   "source": [
    "<a id=\"5\"></a>\n",
    "## <b><span style='color:#E1B12D; font-size: 40px'> 5. Implementing Perceptron from scratch:</span></b> \n",
    "\n",
    "<div style=\"border-radius:10px; padding: 12px; background-color: #ffffff; font-size:150%; text-align:left\">\n",
    "    \n",
    "Implementing Perceptron from scratch helps us truly to understand how it works under the hood and we'll be able to customize and optimize it later for specific tasks depending on our needs. <br><br> \n",
    "    \n",
    "<b><span style='color:#0077b6; font-size: 25px'>The Dataset  </span></b> <br>\n",
    " \n",
    "The dataset we're going to use here is the <b>Breast Cancer Wisconsin (Diagnostic) dataset that is a collection of information gathered from digitized images of breast cancer cells.</b> It contains features like the size, shape, and texture of cell nuclei, along with other characteristics computed from the images. The dataset is used to predict whether a detected breast tumor is malignant (cancerous) or benign (non-cancerous). <br>\n",
    "</div>"
   ]
  },
  {
   "cell_type": "code",
   "execution_count": 1,
   "id": "e2765c0d",
   "metadata": {
    "execution": {
     "iopub.execute_input": "2024-02-21T21:31:28.785987Z",
     "iopub.status.busy": "2024-02-21T21:31:28.785219Z",
     "iopub.status.idle": "2024-02-21T21:31:32.556254Z",
     "shell.execute_reply": "2024-02-21T21:31:32.554880Z"
    },
    "papermill": {
     "duration": 3.784413,
     "end_time": "2024-02-21T21:31:32.559388",
     "exception": false,
     "start_time": "2024-02-21T21:31:28.774975",
     "status": "completed"
    },
    "tags": []
   },
   "outputs": [],
   "source": [
    "# useful librairies\n",
    "import numpy as np\n",
    "import pandas as pd\n",
    "import matplotlib.pyplot as plt\n",
    "import seaborn as sns\n",
    "from sklearn.datasets import load_breast_cancer\n",
    "from sklearn.metrics import accuracy_score\n",
    "\n",
    "# load dataset\n",
    "data = load_breast_cancer()\n",
    "df = pd.DataFrame(data.data, columns=data.feature_names)\n",
    "df['target'] = data.target"
   ]
  },
  {
   "cell_type": "code",
   "execution_count": 2,
   "id": "1f611287",
   "metadata": {
    "execution": {
     "iopub.execute_input": "2024-02-21T21:31:32.577602Z",
     "iopub.status.busy": "2024-02-21T21:31:32.576960Z",
     "iopub.status.idle": "2024-02-21T21:31:32.618288Z",
     "shell.execute_reply": "2024-02-21T21:31:32.616860Z"
    },
    "papermill": {
     "duration": 0.053574,
     "end_time": "2024-02-21T21:31:32.621100",
     "exception": false,
     "start_time": "2024-02-21T21:31:32.567526",
     "status": "completed"
    },
    "tags": []
   },
   "outputs": [
    {
     "data": {
      "text/html": [
       "<div>\n",
       "<style scoped>\n",
       "    .dataframe tbody tr th:only-of-type {\n",
       "        vertical-align: middle;\n",
       "    }\n",
       "\n",
       "    .dataframe tbody tr th {\n",
       "        vertical-align: top;\n",
       "    }\n",
       "\n",
       "    .dataframe thead th {\n",
       "        text-align: right;\n",
       "    }\n",
       "</style>\n",
       "<table border=\"1\" class=\"dataframe\">\n",
       "  <thead>\n",
       "    <tr style=\"text-align: right;\">\n",
       "      <th></th>\n",
       "      <th>mean radius</th>\n",
       "      <th>mean texture</th>\n",
       "      <th>mean perimeter</th>\n",
       "      <th>mean area</th>\n",
       "      <th>mean smoothness</th>\n",
       "      <th>mean compactness</th>\n",
       "      <th>mean concavity</th>\n",
       "      <th>mean concave points</th>\n",
       "      <th>mean symmetry</th>\n",
       "      <th>mean fractal dimension</th>\n",
       "      <th>...</th>\n",
       "      <th>worst texture</th>\n",
       "      <th>worst perimeter</th>\n",
       "      <th>worst area</th>\n",
       "      <th>worst smoothness</th>\n",
       "      <th>worst compactness</th>\n",
       "      <th>worst concavity</th>\n",
       "      <th>worst concave points</th>\n",
       "      <th>worst symmetry</th>\n",
       "      <th>worst fractal dimension</th>\n",
       "      <th>target</th>\n",
       "    </tr>\n",
       "  </thead>\n",
       "  <tbody>\n",
       "    <tr>\n",
       "      <th>0</th>\n",
       "      <td>17.99</td>\n",
       "      <td>10.38</td>\n",
       "      <td>122.80</td>\n",
       "      <td>1001.0</td>\n",
       "      <td>0.11840</td>\n",
       "      <td>0.27760</td>\n",
       "      <td>0.3001</td>\n",
       "      <td>0.14710</td>\n",
       "      <td>0.2419</td>\n",
       "      <td>0.07871</td>\n",
       "      <td>...</td>\n",
       "      <td>17.33</td>\n",
       "      <td>184.60</td>\n",
       "      <td>2019.0</td>\n",
       "      <td>0.1622</td>\n",
       "      <td>0.6656</td>\n",
       "      <td>0.7119</td>\n",
       "      <td>0.2654</td>\n",
       "      <td>0.4601</td>\n",
       "      <td>0.11890</td>\n",
       "      <td>0</td>\n",
       "    </tr>\n",
       "    <tr>\n",
       "      <th>1</th>\n",
       "      <td>20.57</td>\n",
       "      <td>17.77</td>\n",
       "      <td>132.90</td>\n",
       "      <td>1326.0</td>\n",
       "      <td>0.08474</td>\n",
       "      <td>0.07864</td>\n",
       "      <td>0.0869</td>\n",
       "      <td>0.07017</td>\n",
       "      <td>0.1812</td>\n",
       "      <td>0.05667</td>\n",
       "      <td>...</td>\n",
       "      <td>23.41</td>\n",
       "      <td>158.80</td>\n",
       "      <td>1956.0</td>\n",
       "      <td>0.1238</td>\n",
       "      <td>0.1866</td>\n",
       "      <td>0.2416</td>\n",
       "      <td>0.1860</td>\n",
       "      <td>0.2750</td>\n",
       "      <td>0.08902</td>\n",
       "      <td>0</td>\n",
       "    </tr>\n",
       "    <tr>\n",
       "      <th>2</th>\n",
       "      <td>19.69</td>\n",
       "      <td>21.25</td>\n",
       "      <td>130.00</td>\n",
       "      <td>1203.0</td>\n",
       "      <td>0.10960</td>\n",
       "      <td>0.15990</td>\n",
       "      <td>0.1974</td>\n",
       "      <td>0.12790</td>\n",
       "      <td>0.2069</td>\n",
       "      <td>0.05999</td>\n",
       "      <td>...</td>\n",
       "      <td>25.53</td>\n",
       "      <td>152.50</td>\n",
       "      <td>1709.0</td>\n",
       "      <td>0.1444</td>\n",
       "      <td>0.4245</td>\n",
       "      <td>0.4504</td>\n",
       "      <td>0.2430</td>\n",
       "      <td>0.3613</td>\n",
       "      <td>0.08758</td>\n",
       "      <td>0</td>\n",
       "    </tr>\n",
       "    <tr>\n",
       "      <th>3</th>\n",
       "      <td>11.42</td>\n",
       "      <td>20.38</td>\n",
       "      <td>77.58</td>\n",
       "      <td>386.1</td>\n",
       "      <td>0.14250</td>\n",
       "      <td>0.28390</td>\n",
       "      <td>0.2414</td>\n",
       "      <td>0.10520</td>\n",
       "      <td>0.2597</td>\n",
       "      <td>0.09744</td>\n",
       "      <td>...</td>\n",
       "      <td>26.50</td>\n",
       "      <td>98.87</td>\n",
       "      <td>567.7</td>\n",
       "      <td>0.2098</td>\n",
       "      <td>0.8663</td>\n",
       "      <td>0.6869</td>\n",
       "      <td>0.2575</td>\n",
       "      <td>0.6638</td>\n",
       "      <td>0.17300</td>\n",
       "      <td>0</td>\n",
       "    </tr>\n",
       "    <tr>\n",
       "      <th>4</th>\n",
       "      <td>20.29</td>\n",
       "      <td>14.34</td>\n",
       "      <td>135.10</td>\n",
       "      <td>1297.0</td>\n",
       "      <td>0.10030</td>\n",
       "      <td>0.13280</td>\n",
       "      <td>0.1980</td>\n",
       "      <td>0.10430</td>\n",
       "      <td>0.1809</td>\n",
       "      <td>0.05883</td>\n",
       "      <td>...</td>\n",
       "      <td>16.67</td>\n",
       "      <td>152.20</td>\n",
       "      <td>1575.0</td>\n",
       "      <td>0.1374</td>\n",
       "      <td>0.2050</td>\n",
       "      <td>0.4000</td>\n",
       "      <td>0.1625</td>\n",
       "      <td>0.2364</td>\n",
       "      <td>0.07678</td>\n",
       "      <td>0</td>\n",
       "    </tr>\n",
       "  </tbody>\n",
       "</table>\n",
       "<p>5 rows × 31 columns</p>\n",
       "</div>"
      ],
      "text/plain": [
       "   mean radius  mean texture  mean perimeter  mean area  mean smoothness  \\\n",
       "0        17.99         10.38          122.80     1001.0          0.11840   \n",
       "1        20.57         17.77          132.90     1326.0          0.08474   \n",
       "2        19.69         21.25          130.00     1203.0          0.10960   \n",
       "3        11.42         20.38           77.58      386.1          0.14250   \n",
       "4        20.29         14.34          135.10     1297.0          0.10030   \n",
       "\n",
       "   mean compactness  mean concavity  mean concave points  mean symmetry  \\\n",
       "0           0.27760          0.3001              0.14710         0.2419   \n",
       "1           0.07864          0.0869              0.07017         0.1812   \n",
       "2           0.15990          0.1974              0.12790         0.2069   \n",
       "3           0.28390          0.2414              0.10520         0.2597   \n",
       "4           0.13280          0.1980              0.10430         0.1809   \n",
       "\n",
       "   mean fractal dimension  ...  worst texture  worst perimeter  worst area  \\\n",
       "0                 0.07871  ...          17.33           184.60      2019.0   \n",
       "1                 0.05667  ...          23.41           158.80      1956.0   \n",
       "2                 0.05999  ...          25.53           152.50      1709.0   \n",
       "3                 0.09744  ...          26.50            98.87       567.7   \n",
       "4                 0.05883  ...          16.67           152.20      1575.0   \n",
       "\n",
       "   worst smoothness  worst compactness  worst concavity  worst concave points  \\\n",
       "0            0.1622             0.6656           0.7119                0.2654   \n",
       "1            0.1238             0.1866           0.2416                0.1860   \n",
       "2            0.1444             0.4245           0.4504                0.2430   \n",
       "3            0.2098             0.8663           0.6869                0.2575   \n",
       "4            0.1374             0.2050           0.4000                0.1625   \n",
       "\n",
       "   worst symmetry  worst fractal dimension  target  \n",
       "0          0.4601                  0.11890       0  \n",
       "1          0.2750                  0.08902       0  \n",
       "2          0.3613                  0.08758       0  \n",
       "3          0.6638                  0.17300       0  \n",
       "4          0.2364                  0.07678       0  \n",
       "\n",
       "[5 rows x 31 columns]"
      ]
     },
     "execution_count": 2,
     "metadata": {},
     "output_type": "execute_result"
    }
   ],
   "source": [
    "df.head()"
   ]
  },
  {
   "cell_type": "code",
   "execution_count": 3,
   "id": "a29c2120",
   "metadata": {
    "execution": {
     "iopub.execute_input": "2024-02-21T21:31:32.640808Z",
     "iopub.status.busy": "2024-02-21T21:31:32.640083Z",
     "iopub.status.idle": "2024-02-21T21:31:33.320669Z",
     "shell.execute_reply": "2024-02-21T21:31:33.319672Z"
    },
    "papermill": {
     "duration": 0.695295,
     "end_time": "2024-02-21T21:31:33.324670",
     "exception": false,
     "start_time": "2024-02-21T21:31:32.629375",
     "status": "completed"
    },
    "tags": []
   },
   "outputs": [
    {
     "data": {
      "image/png": "[encoded data removed]",
      "text/plain": [
       "<Figure size 1000x600 with 1 Axes>"
      ]
     },
     "metadata": {},
     "output_type": "display_data"
    }
   ],
   "source": [
    "# we'll only use the mean radius and mean texture features to plot the scatter plot\n",
    "plt.figure(figsize=(10, 6))\n",
    "sns.scatterplot(data=df, x='mean radius', y='mean texture', hue='target')\n",
    "plt.title('Breast Cancer Dataset')\n",
    "plt.xlabel('mean radius')\n",
    "plt.ylabel('mean texture')\n",
    "plt.savefig(\"breast_cancer.png\")\n",
    "plt.show()"
   ]
  },
  {
   "cell_type": "markdown",
   "id": "9d8dbd02",
   "metadata": {
    "papermill": {
     "duration": 0.010579,
     "end_time": "2024-02-21T21:31:33.347136",
     "exception": false,
     "start_time": "2024-02-21T21:31:33.336557",
     "status": "completed"
    },
    "tags": []
   },
   "source": [
    "<div style=\"border-radius:10px; padding: 12px; background-color: #ffffff; font-size:150%; text-align:left\">\n",
    "    \n",
    "<b><span style='color:#0077b6; font-size: 25px'>Perceptron Class Implementation</span></b> <br>\n",
    "\n",
    "From the plot above we can see the two different classes but they are not totally linearly separable. Let's see how a Perceptron can classify them.\n",
    "\n",
    "</div>"
   ]
  },
  {
   "cell_type": "code",
   "execution_count": 4,
   "id": "2418a918",
   "metadata": {
    "_kg_hide-input": true,
    "execution": {
     "iopub.execute_input": "2024-02-21T21:31:33.371074Z",
     "iopub.status.busy": "2024-02-21T21:31:33.370016Z",
     "iopub.status.idle": "2024-02-21T21:31:33.382614Z",
     "shell.execute_reply": "2024-02-21T21:31:33.381354Z"
    },
    "papermill": {
     "duration": 0.027748,
     "end_time": "2024-02-21T21:31:33.385258",
     "exception": false,
     "start_time": "2024-02-21T21:31:33.357510",
     "status": "completed"
    },
    "tags": []
   },
   "outputs": [],
   "source": [
    "# From scratch Perceptron class\n",
    "class Perceptron:\n",
    "    def __init__(self, numb_feats, learning_rate=0.1, numb_epochs=150):\n",
    "        self.numb_feats = numb_feats\n",
    "        self.learning_rate = learning_rate\n",
    "        self.numb_epochs = numb_epochs\n",
    "        self.weights = np.zeros(numb_feats)\n",
    "        self.bias = 0\n",
    "        self.predictions = None\n",
    "\n",
    "    def activation(self, x):\n",
    "        return 1 if x >= 0 else 0\n",
    "    \n",
    "    def predict(self, x):\n",
    "        result = np.dot(self.weights, x) + self.bias\n",
    "        return self.activation(result)\n",
    "    \n",
    "    def train(self, X, y):\n",
    "        for _ in range(self.numb_epochs):\n",
    "            for i in range(len(X)):\n",
    "                pred = self.predict(X[i])\n",
    "                self.weights += self.learning_rate * (y[i] - pred) * X[i]\n",
    "                self.bias += self.learning_rate * (y[i] - pred)\n",
    "    \n",
    "    def make_predictions(self, X):\n",
    "        if self.predictions is None:  # Predictions haven't been made yet\n",
    "            self.predictions = [self.predict(x) for x in X]\n",
    "        return self.predictions\n"
   ]
  },
  {
   "cell_type": "code",
   "execution_count": 5,
   "id": "9e519cee",
   "metadata": {
    "execution": {
     "iopub.execute_input": "2024-02-21T21:31:33.409250Z",
     "iopub.status.busy": "2024-02-21T21:31:33.408835Z",
     "iopub.status.idle": "2024-02-21T21:31:34.728579Z",
     "shell.execute_reply": "2024-02-21T21:31:34.726934Z"
    },
    "papermill": {
     "duration": 1.335062,
     "end_time": "2024-02-21T21:31:34.731546",
     "exception": false,
     "start_time": "2024-02-21T21:31:33.396484",
     "status": "completed"
    },
    "tags": []
   },
   "outputs": [],
   "source": [
    "X = df.iloc[:, [0, 1]].values\n",
    "y = df.iloc[:, -1].values\n",
    "\n",
    "# train the perceptron\n",
    "perceptron = Perceptron(numb_feats=2)\n",
    "perceptron.train(X, y)"
   ]
  },
  {
   "cell_type": "code",
   "execution_count": 6,
   "id": "fc0d2a31",
   "metadata": {
    "execution": {
     "iopub.execute_input": "2024-02-21T21:31:34.756091Z",
     "iopub.status.busy": "2024-02-21T21:31:34.755637Z",
     "iopub.status.idle": "2024-02-21T21:31:34.767593Z",
     "shell.execute_reply": "2024-02-21T21:31:34.765081Z"
    },
    "papermill": {
     "duration": 0.029487,
     "end_time": "2024-02-21T21:31:34.772076",
     "exception": false,
     "start_time": "2024-02-21T21:31:34.742589",
     "status": "completed"
    },
    "tags": []
   },
   "outputs": [
    {
     "name": "stdout",
     "output_type": "stream",
     "text": [
      "Our Perceptron's accuracy: 0.8558875219683656\n"
     ]
    }
   ],
   "source": [
    "# make prediction on the same set and see the accuracy\n",
    "preds = perceptron.make_predictions(X)\n",
    "\n",
    "print(\"Our Perceptron's accuracy:\", accuracy_score(y, preds))"
   ]
  },
  {
   "cell_type": "markdown",
   "id": "c4c5e7ba",
   "metadata": {
    "papermill": {
     "duration": 0.01055,
     "end_time": "2024-02-21T21:31:34.793827",
     "exception": false,
     "start_time": "2024-02-21T21:31:34.783277",
     "status": "completed"
    },
    "tags": []
   },
   "source": [
    "<a id=\"6\"></a>\n",
    "## <b> <span style='color:#E1B12D; font-size: 40px'> 6. Implementing Perceptron with Scikit-Learn</span></b> \n",
    "\n",
    "<div style=\"border-radius:10px; padding: 12px; background-color: #ffffff; font-size:150%; text-align:left\">\n",
    "<b> Scikit-Learn provides a Perceptron class </b> that implements a single TLU network defining as shown in the official documentation:\n",
    "<center><img src='https://miro.medium.com/v2/resize:fit:720/format:webp/1*LLCuEsSGspToSMRKiKy8FA.png' \n",
    "height=500px width=800px /></center>\n",
    "    The below code is just an example of how it can be implemented:\n",
    "</div>"
   ]
  },
  {
   "cell_type": "code",
   "execution_count": 7,
   "id": "e667e297",
   "metadata": {
    "_kg_hide-input": true,
    "execution": {
     "iopub.execute_input": "2024-02-21T21:31:34.817806Z",
     "iopub.status.busy": "2024-02-21T21:31:34.816996Z",
     "iopub.status.idle": "2024-02-21T21:31:34.987437Z",
     "shell.execute_reply": "2024-02-21T21:31:34.986000Z"
    },
    "papermill": {
     "duration": 0.18605,
     "end_time": "2024-02-21T21:31:34.990353",
     "exception": false,
     "start_time": "2024-02-21T21:31:34.804303",
     "status": "completed"
    },
    "tags": []
   },
   "outputs": [
    {
     "data": {
      "text/html": [
       "<style>#sk-container-id-1 {color: black;background-color: white;}#sk-container-id-1 pre{padding: 0;}#sk-container-id-1 div.sk-toggleable {background-color: white;}#sk-container-id-1 label.sk-toggleable__label {cursor: pointer;display: block;width: 100%;margin-bottom: 0;padding: 0.3em;box-sizing: border-box;text-align: center;}#sk-container-id-1 label.sk-toggleable__label-arrow:before {content: \"▸\";float: left;margin-right: 0.25em;color: #696969;}#sk-container-id-1 label.sk-toggleable__label-arrow:hover:before {color: black;}#sk-container-id-1 div.sk-estimator:hover label.sk-toggleable__label-arrow:before {color: black;}#sk-container-id-1 div.sk-toggleable__content {max-height: 0;max-width: 0;overflow: hidden;text-align: left;background-color: #f0f8ff;}#sk-container-id-1 div.sk-toggleable__content pre {margin: 0.2em;color: black;border-radius: 0.25em;background-color: #f0f8ff;}#sk-container-id-1 input.sk-toggleable__control:checked~div.sk-toggleable__content {max-height: 200px;max-width: 100%;overflow: auto;}#sk-container-id-1 input.sk-toggleable__control:checked~label.sk-toggleable__label-arrow:before {content: \"▾\";}#sk-container-id-1 div.sk-estimator input.sk-toggleable__control:checked~label.sk-toggleable__label {background-color: #d4ebff;}#sk-container-id-1 div.sk-label input.sk-toggleable__control:checked~label.sk-toggleable__label {background-color: #d4ebff;}#sk-container-id-1 input.sk-hidden--visually {border: 0;clip: rect(1px 1px 1px 1px);clip: rect(1px, 1px, 1px, 1px);height: 1px;margin: -1px;overflow: hidden;padding: 0;position: absolute;width: 1px;}#sk-container-id-1 div.sk-estimator {font-family: monospace;background-color: #f0f8ff;border: 1px dotted black;border-radius: 0.25em;box-sizing: border-box;margin-bottom: 0.5em;}#sk-container-id-1 div.sk-estimator:hover {background-color: #d4ebff;}#sk-container-id-1 div.sk-parallel-item::after {content: \"\";width: 100%;border-bottom: 1px solid gray;flex-grow: 1;}#sk-container-id-1 div.sk-label:hover label.sk-toggleable__label {background-color: #d4ebff;}#sk-container-id-1 div.sk-serial::before {content: \"\";position: absolute;border-left: 1px solid gray;box-sizing: border-box;top: 0;bottom: 0;left: 50%;z-index: 0;}#sk-container-id-1 div.sk-serial {display: flex;flex-direction: column;align-items: center;background-color: white;padding-right: 0.2em;padding-left: 0.2em;position: relative;}#sk-container-id-1 div.sk-item {position: relative;z-index: 1;}#sk-container-id-1 div.sk-parallel {display: flex;align-items: stretch;justify-content: center;background-color: white;position: relative;}#sk-container-id-1 div.sk-item::before, #sk-container-id-1 div.sk-parallel-item::before {content: \"\";position: absolute;border-left: 1px solid gray;box-sizing: border-box;top: 0;bottom: 0;left: 50%;z-index: -1;}#sk-container-id-1 div.sk-parallel-item {display: flex;flex-direction: column;z-index: 1;position: relative;background-color: white;}#sk-container-id-1 div.sk-parallel-item:first-child::after {align-self: flex-end;width: 50%;}#sk-container-id-1 div.sk-parallel-item:last-child::after {align-self: flex-start;width: 50%;}#sk-container-id-1 div.sk-parallel-item:only-child::after {width: 0;}#sk-container-id-1 div.sk-dashed-wrapped {border: 1px dashed gray;margin: 0 0.4em 0.5em 0.4em;box-sizing: border-box;padding-bottom: 0.4em;background-color: white;}#sk-container-id-1 div.sk-label label {font-family: monospace;font-weight: bold;display: inline-block;line-height: 1.2em;}#sk-container-id-1 div.sk-label-container {text-align: center;}#sk-container-id-1 div.sk-container {/* jupyter's `normalize.less` sets `[hidden] { display: none; }` but bootstrap.min.css set `[hidden] { display: none !important; }` so we also need the `!important` here to be able to override the default hidden behavior on the sphinx rendered scikit-learn.org. See: https://github.com/scikit-learn/scikit-learn/issues/21755 */display: inline-block !important;position: relative;}#sk-container-id-1 div.sk-text-repr-fallback {display: none;}</style><div id=\"sk-container-id-1\" class=\"sk-top-container\"><div class=\"sk-text-repr-fallback\"><pre>Perceptron(max_iter=150, tol=0.1)</pre><b>In a Jupyter environment, please rerun this cell to show the HTML representation or trust the notebook. <br />On GitHub, the HTML representation is unable to render, please try loading this page with nbviewer.org.</b></div><div class=\"sk-container\" hidden><div class=\"sk-item\"><div class=\"sk-estimator sk-toggleable\"><input class=\"sk-toggleable__control sk-hidden--visually\" id=\"sk-estimator-id-1\" type=\"checkbox\" checked><label for=\"sk-estimator-id-1\" class=\"sk-toggleable__label sk-toggleable__label-arrow\">Perceptron</label><div class=\"sk-toggleable__content\"><pre>Perceptron(max_iter=150, tol=0.1)</pre></div></div></div></div></div>"
      ],
      "text/plain": [
       "Perceptron(max_iter=150, tol=0.1)"
      ]
     },
     "execution_count": 7,
     "metadata": {},
     "output_type": "execute_result"
    }
   ],
   "source": [
    "from sklearn.linear_model import Perceptron\n",
    "\n",
    "# perceptron class\n",
    "sklearn_percept = Perceptron(max_iter=150,tol=0.1)\n",
    "sklearn_percept.fit(X, y)"
   ]
  },
  {
   "cell_type": "code",
   "execution_count": 8,
   "id": "692fc9ef",
   "metadata": {
    "execution": {
     "iopub.execute_input": "2024-02-21T21:31:35.015046Z",
     "iopub.status.busy": "2024-02-21T21:31:35.014624Z",
     "iopub.status.idle": "2024-02-21T21:31:35.022877Z",
     "shell.execute_reply": "2024-02-21T21:31:35.021445Z"
    },
    "papermill": {
     "duration": 0.02461,
     "end_time": "2024-02-21T21:31:35.025667",
     "exception": false,
     "start_time": "2024-02-21T21:31:35.001057",
     "status": "completed"
    },
    "tags": []
   },
   "outputs": [
    {
     "name": "stdout",
     "output_type": "stream",
     "text": [
      "Sklearn Perceptron's accuracy: 0.6625659050966608\n"
     ]
    }
   ],
   "source": [
    "# make prediction on the same set and see the accuracy\n",
    "sklearn_preds = sklearn_percept.predict(X)\n",
    "\n",
    "print(\"Sklearn Perceptron's accuracy:\", accuracy_score(y, sklearn_preds))"
   ]
  },
  {
   "cell_type": "markdown",
   "id": "a5e12f1e",
   "metadata": {
    "papermill": {
     "duration": 0.010303,
     "end_time": "2024-02-21T21:31:35.046811",
     "exception": false,
     "start_time": "2024-02-21T21:31:35.036508",
     "status": "completed"
    },
    "tags": []
   },
   "source": [
    "<div style=\"border-radius:10px; padding: 12px; background-color: #ffffff; font-size:150%; text-align:left\">\n",
    "The accuracy is about 0.6625. Still figuring out why :)\n",
    "\n",
    "<b>But what is certain is that for this binary classification problem, Perceptron is not well suited and we’re going to see why!</b>\n",
    "</div>"
   ]
  },
  {
   "cell_type": "markdown",
   "id": "976464f2",
   "metadata": {
    "papermill": {
     "duration": 0.010595,
     "end_time": "2024-02-21T21:31:35.068660",
     "exception": false,
     "start_time": "2024-02-21T21:31:35.058065",
     "status": "completed"
    },
    "tags": []
   },
   "source": [
    "<a id=\"7\"></a>\n",
    "## <b> <span style='color:#E1B12D; font-size: 40px'> 7. Limitations of Single-Layer Perceptrons</span></b> \n",
    "\n",
    "<div style=\"border-radius:10px; padding: 12px; background-color: #ffffff; font-size:130%; text-align:left\">\n",
    "Single-layer Perceptrons can be used in many scenarios particularly where the data is linearly separable and the problem is relatively simple including binary classification, some pattern recognition, etc… <br> <br>\n",
    "<b>However, they are unable to model complex decision boundaries for non-linearly separable data.</b> The inability to learn XOR (exclusive OR) is a classic example. <br> <br>\n",
    "<b>Also, they produce binary outputs (0 or 1) based on a threshold activation function. This binary output may not be suitable for tasks requiring continuous or probabilistic predictions.</b>\n",
    "    \n",
    "</div>"
   ]
  },
  {
   "cell_type": "markdown",
   "id": "9a5139bb",
   "metadata": {
    "papermill": {
     "duration": 0.01029,
     "end_time": "2024-02-21T21:31:35.090188",
     "exception": false,
     "start_time": "2024-02-21T21:31:35.079898",
     "status": "completed"
    },
    "tags": []
   },
   "source": [
    "## <b> <span style='color:#E1B12D; font-size: 35px'>Conclusion</span></b> \n",
    "\n",
    "\n",
    "<div style=\"border-radius:10px; padding: 12px; background-color: #ffffff; font-size:150%; text-align:left\">\n",
    "\n",
    "The theory behind Perceptrons is fascinating, as they draw inspiration from the structure and function of the human brain, akin to interconnected puzzle pieces capable of learning and decision-making.\n",
    "Although Artificial Neural Networks (ANNs) may not reach the complexity of the human brain, they remain potent tools for various tasks. From their inception in the 1940s with McCulloch and Pitts to Rosenblatt's pioneering Perceptron learning algorithm, Perceptrons have profoundly impacted the field of Machine Learning.  <br> <br>\n",
    "However, for tackling more intricate problems requiring the comprehension of non-linear decision boundaries and complex data patterns, advanced neural network architectures like Multi-Layer Perceptrons (MLPs) and Deep Neural Networks (DNNs) are preferred.\n",
    "In essence, while Perceptrons represent a significant milestone in the history of ANNs, they merely scratch the surface of a vast and evolving field.\n",
    "<center><img src='https://cdn-images-1.medium.com/max/800/1*30YDnisanIYRHpC-L2Br-g.png' \n",
    "height=800px width=1000px /></center>\n",
    "    \n",
    " <br>\n",
    "    \n",
    "<b><span style='color:#0077b6; font-size: 25px'>References and Ressources :</span></b> <br><br>\n",
    "    \n",
    "- <b>Full article on medium: </b> <a href=\"https://anyantudre.medium.com/from-biological-to-artificial-neurons-theory-behind-perceptrons-d0ccc5bcf1eb\">Theory behind Perceptrons: From Biological to Artificial Neurons.</a> <br> \n",
    "- <b>GitHub repo:</b> <a href=\"https://github.com/ANYANTUDRE/Hands-on-Deep-Learning-From-Scratch\">Hands on Deep Learning - From Scratch </a> <br>\n",
    "- <b>Notebook Design: <b> <a href=\"https://www.kaggle.com/code/ddosad/ps4e2-visual-eda-lgbm-obesity-risk\"> PS4E2 : Visual EDA📈 | LGBM | Obesity Risk</a> <br>\n",
    "-  <b>Hands-on Machine Learning with Scikit-Learn, Keras & Tensorflow - Aurélien Géron:</b> This work is inspired from this excellent book that I'm still exploring and worth reading. I share this for learning purposes and to help others discover this fascinating field of Deep Learning. <br>\n",
    "- The Simplified McCulloch-Pitts Model part and The two examples are inspired from this article <a href = \"https://towardsdatascience.com/mcculloch-pitts-model-5fdf65ac5dd1\"> McCulloch-Pitts Neuron - Mankind's First Mathematical Model Of A Biological Neuron. </a> <br>\n",
    "- Some images are from <a href=\"https://www.researchgate.net/figure/A-biological-neuron-in-comparison-to-an-artificial-neural-network-a-human-neuron-b_fig2_339446790\">ResearchGate website</a>. Hope I'll not be blamed for copyrights.\n",
    "</div>"
   ]
  },
  {
   "cell_type": "markdown",
   "id": "3ee5370f",
   "metadata": {
    "papermill": {
     "duration": 0.010088,
     "end_time": "2024-02-21T21:31:35.110848",
     "exception": false,
     "start_time": "2024-02-21T21:31:35.100760",
     "status": "completed"
    },
    "tags": []
   },
   "source": [
    "<a id=\"toc\"></a>\n",
    "\n",
    "<a href=\"#toc\" style=\"background-color: #E1B12D; color: #ffffff; padding: 7px 10px; text-decoration: none; border-radius: 50px;\">Back to top</a><a id=\"toc\"></a>\n"
   ]
  }
 ],
 "metadata": {
  "kaggle": {
   "accelerator": "none",
   "dataSources": [
    {
     "datasetId": 180,
     "sourceId": 408,
     "sourceType": "datasetVersion"
    }
   ],
   "dockerImageVersionId": 30646,
   "isGpuEnabled": false,
   "isInternetEnabled": true,
   "language": "python",
   "sourceType": "notebook"
  },
  "kernelspec": {
   "display_name": "Python 3",
   "language": "python",
   "name": "python3"
  },
  "language_info": {
   "codemirror_mode": {
    "name": "ipython",
    "version": 3
   },
   "file_extension": ".py",
   "mimetype": "text/x-python",
   "name": "python",
   "nbconvert_exporter": "python",
   "pygments_lexer": "ipython3",
   "version": "3.10.13"
  },
  "papermill": {
   "default_parameters": {},
   "duration": 10.683068,
   "end_time": "2024-02-21T21:31:35.843875",
   "environment_variables": {},
   "exception": null,
   "input_path": "__notebook__.ipynb",
   "output_path": "__notebook__.ipynb",
   "parameters": {},
   "start_time": "2024-02-21T21:31:25.160807",
   "version": "2.5.0"
  }
 },
 "nbformat": 4,
 "nbformat_minor": 5
}
